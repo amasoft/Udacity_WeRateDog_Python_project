{
 "cells": [
  {
   "cell_type": "markdown",
   "metadata": {},
   "source": [
    "## Reporting: wragle_report"
   ]
  },
  {
   "cell_type": "markdown",
   "metadata": {},
   "source": [
    "### Brief Overview"
   ]
  },
  {
   "cell_type": "markdown",
   "metadata": {},
   "source": [
    "Data wrangling involves three (3) steps and these includes:\n",
    "\n",
    "\n",
    ".Gathering\n",
    "\n",
    ".Assessing \n",
    "\n",
    ".Cleaning\n"
   ]
  },
  {
   "cell_type": "markdown",
   "metadata": {},
   "source": [
    "### Data gathering\n",
    "\n",
    "I started the data wrangling  first by  importing the following libraries:\n",
    "\n",
    ".import pandas as pd\n",
    "\n",
    ".import numpy as np\n",
    "\n",
    ".import requests as requests\n",
    "\n",
    ".import json\n",
    "\n",
    ".import matplotlib.pyplot as plt\n",
    "\n",
    ".%matplotlib inline\n",
    "\n",
    "\n",
    "The data  gathering process started with reading the twitter-archieve-enhanced.csv file with pandas library function(read_csv) function and stored it  in a variable(tweet_archive_pd).The image image prediction file was downloaded programmatically using pandas url function(requests.get()) and stored in  a variable (image_prediction_df).The tweet-json file was downloaded from the one provided in classroom( I couldn’t use the tweeter tweepy api beacause of some personal reason(s)),the file was read and stored in a variable(tweet_json_pd) using pandas read_csv function.\n"
   ]
  },
  {
   "cell_type": "markdown",
   "metadata": {},
   "source": [
    "### Data Assessment\n",
    "\n",
    "The data assessments involves steps namely:\n",
    "\n",
    "Visual Assessments:in visual assessment each dataframe  is visually assessed using df.sample( where df is the name of the data frame),during visual assessment I observed  below issues:\n",
    "\n",
    "i.\ttweet_archive_pd have some missing values among it columns\n",
    "\n",
    "ii.\ttweet_json_pd have column  id instead of tweet_id.\n",
    "\n",
    "\n",
    "Programmatic Assessment: during programmatic assessment below functions was used to assess the data frame to check for null values,duplicates,data types etc of each data frame.\n",
    "\n",
    ".pd.isnull()\n",
    "\n",
    ".Pd.info()\n",
    "\n",
    ".Pd.describe()\n",
    "\n",
    ".Pd.dupulicated()\n",
    "\n",
    "Note: pd is the name of the data frame that is been assessed.\n",
    "\n",
    "After visual and programmatic assessment the following Quality and Tidiness issues were discovered.\n",
    "\n",
    "### Quality issues\n",
    "\n",
    "1.tweet_archive-in_reply_to_user_id and in_reply_to_status_id are float datatype\n",
    "\n",
    "2.tweet_Json-has column as id instead of tweet_id\n",
    "\n",
    "3.tweet_id(tweet_archive_pd,image_prediction_df,tweet_json_pd) are integer datatype\n",
    "\n",
    "4.tweet_archive- No actual rating value column\n",
    "\n",
    "5.tweet_archive- contains retweeted tweets\n",
    "\n",
    "6.tweet_archive- name contains invalid names.\n",
    "\n",
    "7.tweet_archive-timestamp is an object datatype and contains more that one variable\n",
    "\n",
    "8.source is a url\n",
    "\n",
    "### Tidiness issues\n",
    "\n",
    "1.\tthe dogs stage are in saperate columns\n",
    "\n",
    "2.\tdrops columns not necessarly needed\n"
   ]
  },
  {
   "cell_type": "raw",
   "metadata": {},
   "source": [
    "### Cleaning data\n",
    "\n",
    "Before cleaning the data frame a copy of the three(3) data frame was made as follows:\n",
    "\n",
    "i.\ttweet_archive_clean=tweet_archive_pd.copy()\n",
    "\n",
    "ii.\timage_prediction_clean=image_prediction_df.copy()\n",
    "\n",
    "iii.\ttweet_json_clean=tweet_json_pd.copy().\n",
    "\n",
    "The cleaning process involves:\n",
    "\n",
    ".\tDefine\n",
    "\n",
    ".\tCode\n",
    "\n",
    ".\tTest\n",
    "\n",
    "Define: this a statement stating how  to clean the issue with the use of words.\n",
    "\n",
    "Code: the use of executable code to clean the issue as stated in define stage\n",
    "\n",
    "Test: this is to confirm if the issue have been resolved or not\n"
   ]
  },
  {
   "cell_type": "code",
   "execution_count": null,
   "metadata": {},
   "outputs": [],
   "source": []
  }
 ],
 "metadata": {
  "kernelspec": {
   "display_name": "Python 3",
   "language": "python",
   "name": "python3"
  },
  "language_info": {
   "codemirror_mode": {
    "name": "ipython",
    "version": 3
   },
   "file_extension": ".py",
   "mimetype": "text/x-python",
   "name": "python",
   "nbconvert_exporter": "python",
   "pygments_lexer": "ipython3",
   "version": "3.6.3"
  }
 },
 "nbformat": 4,
 "nbformat_minor": 2
}
